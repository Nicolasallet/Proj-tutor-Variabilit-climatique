{
 "cells": [
  {
   "cell_type": "code",
   "execution_count": 2,
   "id": "66e267e0-9aa9-4ce3-8de8-07c165432cdc",
   "metadata": {},
   "outputs": [],
   "source": [
    "library('dplyr')\n",
    "library(\"lubridate\")\n",
    "directory = '/media/nicolas/Elements/data/'\n",
    "time_past = 1990\n",
    "time_pre = 2020\n",
    "var <- list('TG','TX','TN','RR')"
   ]
  },
  {
   "cell_type": "code",
   "execution_count": 3,
   "id": "86959941-15c7-4d58-bc97-f686bd3d9e70",
   "metadata": {},
   "outputs": [],
   "source": [
    "openfile <- function(path_to_data,time){\n",
    "    \n",
    "    if (!file.exists(path_to_data)){\n",
    "            stop(\"Invalid ID\")\n",
    "    }\n",
    "    \n",
    "    Data <- read.table(path_to_data,skip = 20,header=TRUE,sep=',')\n",
    "    Data <- filter(Data,Data[,5]==0)               \n",
    "    Data <- Data[,-c(1,2,5)]\n",
    "    Data$DATE <- ymd(Data$DATE)\n",
    " \n",
    "    Data <- filter ( Data, year(Data$DATE) > time - 5 & year(Data$DATE) <= time)\n",
    "    # Data <- filter ( Data, year(Data$DATE) == time)\n",
    "\n",
    "    if (!length(Data$DATE)==1827){                              # 365 * 5 = 1825 Mais attention aux années bissextiles !\n",
    "    \n",
    "        stop('Unvailable data for this period')\n",
    "    }\n",
    "    return(Data)\n",
    "}"
   ]
  },
  {
   "cell_type": "code",
   "execution_count": 34,
   "id": "5a94a596-6028-4c61-b6c6-fdf1ba3e89ce",
   "metadata": {},
   "outputs": [
    {
     "data": {
      "text/html": [
       "1827"
      ],
      "text/latex": [
       "1827"
      ],
      "text/markdown": [
       "1827"
      ],
      "text/plain": [
       "[1] 1827"
      ]
     },
     "metadata": {},
     "output_type": "display_data"
    }
   ],
   "source": [
    "STAID = List_sta[1,]\n",
    "path_to_data_min <- paste(directory,'TN/TN_STAID',STAID,'.txt',sep='')\n",
    "path_to_data_max <- paste(directory,'TX/TX_STAID',STAID,'.txt',sep='')\n",
    "path_to_temp = paste(directory,'TG/TG_STAID',STAID,'.txt',sep='')\n",
    "path_to_prec = paste(directory,'RR/RR_STAID',STAID,'.txt',sep='')\n",
    "length(openfile(path_to_data_max,time_pre)[,1])"
   ]
  },
  {
   "cell_type": "code",
   "execution_count": 4,
   "id": "e64e45cc-e21f-460c-a80c-dc81ef7eec7d",
   "metadata": {},
   "outputs": [],
   "source": [
    "Wichsta <- function(variables_list){\n",
    "## Renvoie une liste de character correspondant aux IDs de stations pour lesquels des données \n",
    "## sont disponibles dans tous les dossiers de variables_list\n",
    "    \n",
    "    # list_comm <-NULL\n",
    "    for (i in 1:length(variables_list)){\n",
    "        sources=read.csv(file =paste(directory,variables_list[i],\"/stations.txt\",sep=''),sep=\",\", \n",
    "                   skip = 17,header = TRUE)\n",
    "        sources$STAID<-as.integer(sources$STAID)\n",
    "        if (i==1){list_comm<-sources['STAID']}\n",
    "        else{list_comm<-intersect(list_comm,sources['STAID'])}\n",
    "        }\n",
    "    list_comm$STAID<-formatC(list_comm$STAID, width = 6, format = \"d\", flag = \"0\")\n",
    "    return(list_comm)\n",
    "}\n",
    "\n",
    "\n",
    "\n",
    "mergedata <- function(variables_list){\n",
    "## Renvoie une liste de character correspondant au ID de stations pour lesquels des données \n",
    "## sont disponibles entre le 1 janvier 1980 et le 31 décembre 2020\n",
    "    \n",
    "    list_comm <-NULL   #INITIALISATION\n",
    "    \n",
    "    for (i in 1:length(variables_list)){ \n",
    "        \n",
    "    #Ouverture du fichier sources        \n",
    "        sources=read.csv(file =paste(directory,variables_list[i],\"/sources.txt\",sep=''),sep=\",\", \n",
    "                   skip = 23,header = TRUE)\n",
    "    #Convertissement ( Oui on dit comme ça j'ai ggler ) de la classe \n",
    "    #des colonnes START/STOP en dttm \n",
    "        sources$START <- ymd(sources$START)\n",
    "        sources$STOP <- ymd(sources$STOP)\n",
    "        sources=filter(sources,year(sources$STOP) >= time_pre   &    year(sources$START) <= time_past-5 )\n",
    "        sources$STAID<-as.integer(sources$STAID)\n",
    "    #Première itération : toutes les stations sont ajoutées à list_comm   \n",
    "        if (i==1){list_comm<-sources['STAID']}\n",
    "    #Suite : Les stations présentes dans list_comm et dans sources$STAID sont entrées dans list_comm\n",
    "        else{list_comm<-intersect(list_comm,sources['STAID'])}\n",
    "        }\n",
    "    #Convertissement des valeurs de list_comm en un format exploitable pour ouvrir des fichiers\n",
    "    list_comm$STAID<-formatC(list_comm$STAID, width = 6, format = \"d\", flag = \"0\")\n",
    "    return(list_comm)\n",
    "} "
   ]
  },
  {
   "cell_type": "code",
   "execution_count": 5,
   "id": "1047fc8f-4ddd-475a-b1a1-987f05fa6d59",
   "metadata": {},
   "outputs": [],
   "source": [
    "allBIO <- function(STAID,time){\n",
    "    \n",
    "    if (!time == time_pre) {\n",
    "        if(!time == time_past){\n",
    "        stop('Time argument must be time_pre or time_past')\n",
    "    }}\n",
    "    \n",
    "    prec_byquarter <- NULL\n",
    "    temp_byquarter <- NULL\n",
    "    \n",
    "    path_to_data_min <- paste(directory,'TN/TN_STAID',STAID,'.txt',sep='')\n",
    "    path_to_data_max <- paste(directory,'TX/TX_STAID',STAID,'.txt',sep='')\n",
    "    path_to_temp = paste(directory,'TG/TG_STAID',STAID,'.txt',sep='')\n",
    "    path_to_prec = paste(directory,'RR/RR_STAID',STAID,'.txt',sep='')\n",
    "    \n",
    "    data_temp <- openfile(path_to_temp,time)\n",
    "    data_prec <- openfile(path_to_prec,time)\n",
    "    \n",
    "    #On extrait de la colonne de date un vecteur ne contenant que les années\n",
    "    vec_year<-as.numeric(format(data_temp$DATE,\"%Y\"))\n",
    "    #On extrait de la colonne de date un vecteur ne contenant que les mois\n",
    "    vec_month<-as.numeric(format(data_temp$DATE, \"%m\"))\n",
    "    \n",
    "    data_temp_annual_mean<-aggregate(data_temp$TG,by = list(vec_year),mean)\n",
    "    data_temp_annual_sd<-aggregate(data_temp$TG,by = list(vec_year),sd)\n",
    "    \n",
    "    #Calcule de la température moyenne de tout les mois de toutes les année : \n",
    "    data_temp_monthly_mean<-aggregate(data_temp$TG,by = list(vec_month),mean)\n",
    "    \n",
    "    BIO1 = mean (data_temp_annual_mean$x)\n",
    "    BIO3 = mean (data_temp_annual_sd$x)\n",
    "    BIO4 = sd (data_temp_monthly_mean$x)\n",
    "    \n",
    "    #Pluie cumulée tous les ans :\n",
    "    Precipitation_annual<-aggregate(data_prec$RR,by = list(vec_year),sum)\n",
    "    \n",
    "    #Calcule de la pluie cumulée de tout les mois de toutes les année :\n",
    "    data_prec_annual_monthly_sum<-aggregate(data_prec$RR,by = list(vec_year,vec_month),sum)\n",
    "    \n",
    "    #Moyenne sur les 5 ans <- pas d'effet 'année exeptionnel' \n",
    "    data_prec_monthly_sum <- aggregate(data_prec_annual_monthly_sum$x,\n",
    "                                   data_prec_annual_monthly_sum[2],mean)\n",
    "    \n",
    "    sd<-sd(data_prec_monthly_sum$x)\n",
    "    \n",
    "    BIO12 <- mean(Precipitation_annual$x)\n",
    "    BIO13 <- max(data_prec_monthly_sum$x)\n",
    "    BIO14 <- min(data_prec_monthly_sum$x)\n",
    "    BIO15<- sd /(1+(BIO12/12))*100\n",
    "    \n",
    "    \n",
    "\n",
    "    for ( i in c(1,4,7,10)){\n",
    "        prec_byquarter <- slice(data_prec_monthly_sum,i:(i+2)) %>% select(x) %>% \n",
    "                                                                    sum %>% append(prec_byquarter)\n",
    "        q <- slice(data_temp_monthly_mean,i:(i+2))\n",
    "        q <-mean(q$x) \n",
    "        temp_byquarter <-append(temp_byquarter,q)\n",
    "    }\n",
    "    df <- data.frame(temp_byquarter,prec_byquarter)\n",
    "    \n",
    "    wettest <- filter (df,df$prec_byquarter==max(prec_byquarter))\n",
    "    dryest <- filter (df,df$prec_byquarter==min(prec_byquarter))\n",
    "    warmest <- filter (df,df$temp_byquarter==max(temp_byquarter))\n",
    "    coldest <- filter (df,df$temp_byquarter==min(temp_byquarter))\n",
    "    \n",
    "    BIO8<- wettest[,1]\n",
    "    BIO9<- dryest[,1]\n",
    "    BIO10<- warmest[,1]\n",
    "    BIO11<- coldest[,1]\n",
    "    BIO16<- wettest[,2]\n",
    "    BIO17<- dryest[,2]\n",
    "    BIO18<- warmest[,2]\n",
    "    BIO19<- coldest[,2]\n",
    "    \n",
    " \n",
    "    Data_min <- openfile(path_to_data_min,time)\n",
    "    Data_max <- openfile(path_to_data_max,time)\n",
    "\n",
    "\n",
    "    #Calcule de la température min de tout les mois de toutes les année : \n",
    "    data_annual_monthly_min<-aggregate(Data_min$TN,by = list(vec_year,vec_month),min)\n",
    "\n",
    "    #Calcule de la température max de tout les mois de toutes les année : \n",
    "    data_annual_monthly_max<-aggregate(Data_max$TX,by = list(vec_year,vec_month),max)\n",
    "    \n",
    "    data_monthly_min <- aggregate(data_annual_monthly_min$x,data_annual_monthly_min[2],mean)\n",
    "    data_monthly_max <- aggregate(data_annual_monthly_max$x,data_annual_monthly_max[2],mean)\n",
    "    data_monthly_range <- data_monthly_min\n",
    "    data_monthly_range$max <- data_monthly_max$x\n",
    "    data_monthly_range<-mutate(data_monthly_range,range = data_monthly_range$max-data_monthly_range$x)\n",
    "    BIO2 <- mean(data_monthly_range$range)\n",
    "    BIO5 <- max(data_monthly_max$x)\n",
    "    BIO6 <- min(data_monthly_min$x)\n",
    "    BIO7 <- BIO5-BIO6\n",
    "    BIO3 <- (BIO2/BIO7)*100\n",
    "    worldclim ( Hijmans 2005 [2] ) et sont d ́ecrites dans O’donnell 2012 [3].\n",
    "    return(list(STAID,BIO1,BIO2,BIO3,BIO4,BIO5,BIO6,BIO7,BIO8,BIO9,BIO10,BIO11,BIO12,BIO13,\n",
    "               BIO14,BIO15,BIO16,BIO17,BIO18,BIO19))\n",
    "}"
   ]
  },
  {
   "cell_type": "code",
   "execution_count": 6,
   "id": "ff76e9e9-4e98-4bce-9e66-12a67d42ae22",
   "metadata": {},
   "outputs": [],
   "source": [
    "allBIO2 <- function (x,y) {\n",
    "## Utiliser pourignorer les messages d'erreures ds savecorr \n",
    "## par ex pour avoir la liste des stations pour lesquels \n",
    "## la matrice de corrélation à pu être calculée\n",
    "  out <- tryCatch(allBIO(x,y), error = function(e) NULL)\n",
    "  return(out)\n",
    "}"
   ]
  },
  {
   "cell_type": "code",
   "execution_count": 7,
   "id": "bd163ce9-5159-4517-aa71-d5b0c227ca66",
   "metadata": {},
   "outputs": [
    {
     "name": "stderr",
     "output_type": "stream",
     "text": [
      "Warning message:\n",
      "“ 6 failed to parse.”\n",
      "Warning message:\n",
      "“ 6 failed to parse.”\n",
      "Warning message:\n",
      "“ 6 failed to parse.”\n",
      "Warning message:\n",
      "“ 18 failed to parse.”\n"
     ]
    }
   ],
   "source": [
    "List_sta <- intersect(mergedata(var),Wichsta(var))"
   ]
  },
  {
   "cell_type": "code",
   "execution_count": 8,
   "id": "c6147d55-e77f-433f-84e9-0e8913fbbf2f",
   "metadata": {},
   "outputs": [],
   "source": [
    "df <- data.frame (c('STAID','BIO1','BIO2','BIO3','BIO4','BIO5','BIO6','BIO7','BIO8','BIO9','BIO10','BIO11','BIO12','BIO13',\n",
    "               'BIO14','BIO15','BIO16','BIO17','BIO18','BIO19'))"
   ]
  },
  {
   "cell_type": "code",
   "execution_count": 9,
   "id": "d9cfa0aa-ba5e-41f6-b98a-642c49f6346e",
   "metadata": {},
   "outputs": [],
   "source": [
    "for ( i in 1:length(List_sta[,])){\n",
    "    t <- allBIO2(List_sta[i,],time_pre)\n",
    "    tt <- as.data.frame(t)\n",
    "    if( length(tt)==20){df <- cbind(df,t(tt))}\n",
    "}\n",
    "rownames(df) <- df[,1]\n",
    "colnames(df) <- df[1,]\n",
    "df <- t(df[-1,-1])"
   ]
  },
  {
   "cell_type": "code",
   "execution_count": 11,
   "id": "bc68b8f5-2e40-4107-a7e1-37411e204dc9",
   "metadata": {},
   "outputs": [],
   "source": [
    "# df       # Delete 1st ligne ?"
   ]
  },
  {
   "cell_type": "code",
   "execution_count": 12,
   "id": "ccf19f1b-90c0-4d4d-8b7f-da649dd44bbc",
   "metadata": {},
   "outputs": [],
   "source": [
    "write.csv(df,paste(\"./allBIO2020.txt\",sep =''), row.names=TRUE)"
   ]
  },
  {
   "cell_type": "code",
   "execution_count": null,
   "id": "52f7b9a9-e6cd-4e53-b9a8-48b4dc2784ff",
   "metadata": {},
   "outputs": [],
   "source": []
  }
 ],
 "metadata": {
  "kernelspec": {
   "display_name": "R",
   "language": "R",
   "name": "ir"
  },
  "language_info": {
   "codemirror_mode": "r",
   "file_extension": ".r",
   "mimetype": "text/x-r-source",
   "name": "R",
   "pygments_lexer": "r",
   "version": "4.1.2"
  }
 },
 "nbformat": 4,
 "nbformat_minor": 5
}
