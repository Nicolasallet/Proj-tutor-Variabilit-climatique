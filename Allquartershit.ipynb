{
 "cells": [
  {
   "cell_type": "code",
   "execution_count": 128,
   "id": "66e267e0-9aa9-4ce3-8de8-07c165432cdc",
   "metadata": {},
   "outputs": [],
   "source": [
    "library('dplyr')\n",
    "library(\"zoo\")\n",
    "directory = '/media/nicolas/Elements/data/'\n",
    "time_past = 1970\n",
    "time_pre = 2010"
   ]
  },
  {
   "cell_type": "code",
   "execution_count": 129,
   "id": "86959941-15c7-4d58-bc97-f686bd3d9e70",
   "metadata": {},
   "outputs": [],
   "source": [
    "openfile <- function(path_to_data,time){\n",
    "    \n",
    "    if (!file.exists(path_to_data)){\n",
    "            stop(\"Invalid ID\")\n",
    "    }\n",
    "    \n",
    "    Data <- read.table(path_to_data,skip = 20,header=TRUE,sep=',')\n",
    "    Data <- filter(Data,Data[,5]==0)               \n",
    "    Data <- Data[,-c(1,2,5)]\n",
    "    Data$DATE <- strptime(Data$DATE, format = \"%Y%m%d\")\n",
    " \n",
    "    Data <- filter ( Data, Data$DATE$year > time - 1905 & Data$DATE$year <= time - 1900)\n",
    "    if (!length(Data$DATE$year)==1826){\n",
    "        stop('Unvailable data for this period')\n",
    "    }\n",
    "    return(Data)\n",
    "}"
   ]
  },
  {
   "cell_type": "code",
   "execution_count": 130,
   "id": "1047fc8f-4ddd-475a-b1a1-987f05fa6d59",
   "metadata": {},
   "outputs": [],
   "source": [
    "quarterino <- function(STAID,time){\n",
    "    \n",
    "    prec_byquarter <- NULL\n",
    "    temp_byquarter <- NULL\n",
    "    \n",
    "    path_to_temp = paste(directory,'TG/TG_STAID',STAID,'.txt',sep='')\n",
    "    path_to_prec = paste(directory,'RR/RR_STAID',STAID,'.txt',sep='')\n",
    "    \n",
    "    data_temp <- openfile(path_to_temp,time)\n",
    "    data_prec <- openfile(path_to_prec,time)\n",
    "    \n",
    "    #On extrait de la colonne de date un vecteur ne contenant que les années\n",
    "    vec_year<-as.numeric(format(data_temp$DATE,\"%Y\"))\n",
    "   #On extrait de la colonne de date un vecteur ne contenant que les mois\n",
    "    vec_month<-as.numeric(format(data_temp$DATE, \"%m\"))\n",
    "    \n",
    "    #Calcule de la température moyenne de tout les mois de toutes les année : \n",
    "    data_temp_monthly_mean<-aggregate(data_temp$TG,by = list(vec_month),mean)\n",
    "    \n",
    "    #Calcule de la pluie cumulée de tout les mois de toutes les année :\n",
    "    data_prec_annual_monthly_sum<-aggregate(data_prec$RR,by = list(vec_year,vec_month),sum)\n",
    "    #Moyenne sur les 5 ans <- pas d'effet 'année exeptionnel' \n",
    "    data_prec_monthly_sum <- aggregate(data_prec_annual_monthly_sum$x,\n",
    "                                   data_prec_annual_monthly_sum[2],mean)\n",
    "    for ( i in c(1,4,7,10)){\n",
    "        prec_byquarter <- slice(data_prec_monthly_sum,i:(i+2)) %>% select(x) %>% \n",
    "                                                                    sum %>% append(prec_byquarter)\n",
    "        q <- slice(data_temp_monthly_mean,i:(i+2))\n",
    "        q <-mean(q$x) \n",
    "        temp_byquarter <-append(temp_byquarter,q)\n",
    "    }\n",
    "    df <- data.frame(temp_byquarter,prec_byquarter)\n",
    "    \n",
    "    wettest <- filter (df,df$prec_byquarter==max(prec_byquarter))\n",
    "    dryest <- filter (df,df$prec_byquarter==min(prec_byquarter))\n",
    "    warmest <- filter (df,df$temp_byquarter==max(temp_byquarter))\n",
    "    coldest <- filter (df,df$temp_byquarter==min(temp_byquarter))\n",
    "    \n",
    "    BIO8<- wettest[,1]\n",
    "    BIO9<- dryest[,1]\n",
    "    BIO10<- warmest[,1]\n",
    "    BIO11<- coldest[,1]\n",
    "    BIO16<- wettest[,2]\n",
    "    BIO17<- dryest[,2]\n",
    "    BIO18<- warmest[,2]\n",
    "    BIO19<- coldest[,2]\n",
    "    \n",
    "    return(list(BIO8,BIO9,BIO10,BIO11,BIO16,BIO17,BIO18,BIO19))\n",
    "    \n",
    "}"
   ]
  },
  {
   "cell_type": "code",
   "execution_count": 133,
   "id": "c6147d55-e77f-433f-84e9-0e8913fbbf2f",
   "metadata": {},
   "outputs": [
    {
     "data": {
      "text/html": [
       "<ol>\n",
       "\t<li>148.014265232975</li>\n",
       "\t<li>52.2605017921147</li>\n",
       "\t<li>179.158494623656</li>\n",
       "\t<li>21.7736749790284</li>\n",
       "\t<li>3421</li>\n",
       "\t<li>1119.2</li>\n",
       "\t<li>2480.4</li>\n",
       "\t<li>1503.8</li>\n",
       "</ol>\n"
      ],
      "text/latex": [
       "\\begin{enumerate}\n",
       "\\item 148.014265232975\n",
       "\\item 52.2605017921147\n",
       "\\item 179.158494623656\n",
       "\\item 21.7736749790284\n",
       "\\item 3421\n",
       "\\item 1119.2\n",
       "\\item 2480.4\n",
       "\\item 1503.8\n",
       "\\end{enumerate}\n"
      ],
      "text/markdown": [
       "1. 148.014265232975\n",
       "2. 52.2605017921147\n",
       "3. 179.158494623656\n",
       "4. 21.7736749790284\n",
       "5. 3421\n",
       "6. 1119.2\n",
       "7. 2480.4\n",
       "8. 1503.8\n",
       "\n",
       "\n"
      ],
      "text/plain": [
       "[[1]]\n",
       "[1] 148.0143\n",
       "\n",
       "[[2]]\n",
       "[1] 52.2605\n",
       "\n",
       "[[3]]\n",
       "[1] 179.1585\n",
       "\n",
       "[[4]]\n",
       "[1] 21.77367\n",
       "\n",
       "[[5]]\n",
       "[1] 3421\n",
       "\n",
       "[[6]]\n",
       "[1] 1119.2\n",
       "\n",
       "[[7]]\n",
       "[1] 2480.4\n",
       "\n",
       "[[8]]\n",
       "[1] 1503.8\n"
      ]
     },
     "metadata": {},
     "output_type": "display_data"
    },
    {
     "data": {
      "text/html": [
       "<ol>\n",
       "\t<li>134.026164874552</li>\n",
       "\t<li>42.6583512544803</li>\n",
       "\t<li>170.607311827957</li>\n",
       "\t<li>13.6972012506673</li>\n",
       "\t<li>3858.2</li>\n",
       "\t<li>1572</li>\n",
       "\t<li>2640.2</li>\n",
       "\t<li>1583</li>\n",
       "</ol>\n"
      ],
      "text/latex": [
       "\\begin{enumerate}\n",
       "\\item 134.026164874552\n",
       "\\item 42.6583512544803\n",
       "\\item 170.607311827957\n",
       "\\item 13.6972012506673\n",
       "\\item 3858.2\n",
       "\\item 1572\n",
       "\\item 2640.2\n",
       "\\item 1583\n",
       "\\end{enumerate}\n"
      ],
      "text/markdown": [
       "1. 134.026164874552\n",
       "2. 42.6583512544803\n",
       "3. 170.607311827957\n",
       "4. 13.6972012506673\n",
       "5. 3858.2\n",
       "6. 1572\n",
       "7. 2640.2\n",
       "8. 1583\n",
       "\n",
       "\n"
      ],
      "text/plain": [
       "[[1]]\n",
       "[1] 134.0262\n",
       "\n",
       "[[2]]\n",
       "[1] 42.65835\n",
       "\n",
       "[[3]]\n",
       "[1] 170.6073\n",
       "\n",
       "[[4]]\n",
       "[1] 13.6972\n",
       "\n",
       "[[5]]\n",
       "[1] 3858.2\n",
       "\n",
       "[[6]]\n",
       "[1] 1572\n",
       "\n",
       "[[7]]\n",
       "[1] 2640.2\n",
       "\n",
       "[[8]]\n",
       "[1] 1583\n"
      ]
     },
     "metadata": {},
     "output_type": "display_data"
    }
   ],
   "source": [
    "r<-quarterino('000013',time_pre)\n",
    "r\n",
    "j<-quarterino('000013',time_past)\n",
    "j"
   ]
  }
 ],
 "metadata": {
  "kernelspec": {
   "display_name": "R",
   "language": "R",
   "name": "ir"
  },
  "language_info": {
   "codemirror_mode": "r",
   "file_extension": ".r",
   "mimetype": "text/x-r-source",
   "name": "R",
   "pygments_lexer": "r",
   "version": "4.1.2"
  }
 },
 "nbformat": 4,
 "nbformat_minor": 5
}
