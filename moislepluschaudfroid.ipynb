{
 "cells": [
  {
   "cell_type": "code",
   "execution_count": 1,
   "id": "b8b88dca",
   "metadata": {},
   "outputs": [
    {
     "name": "stderr",
     "output_type": "stream",
     "text": [
      "\n",
      "Attaching package: ‘dplyr’\n",
      "\n",
      "\n",
      "The following objects are masked from ‘package:stats’:\n",
      "\n",
      "    filter, lag\n",
      "\n",
      "\n",
      "The following objects are masked from ‘package:base’:\n",
      "\n",
      "    intersect, setdiff, setequal, union\n",
      "\n",
      "\n",
      "\n",
      "Attaching package: ‘zoo’\n",
      "\n",
      "\n",
      "The following objects are masked from ‘package:base’:\n",
      "\n",
      "    as.Date, as.Date.numeric\n",
      "\n",
      "\n"
     ]
    }
   ],
   "source": [
    "library('dplyr')\n",
    "library(\"zoo\")"
   ]
  },
  {
   "cell_type": "code",
   "execution_count": 2,
   "id": "0d9a2616",
   "metadata": {},
   "outputs": [
    {
     "data": {
      "text/html": [
       "<table class=\"dataframe\">\n",
       "<caption>A data.frame: 6 × 2</caption>\n",
       "<thead>\n",
       "\t<tr><th></th><th scope=col>DATE</th><th scope=col>TG</th></tr>\n",
       "\t<tr><th></th><th scope=col>&lt;dttm&gt;</th><th scope=col>&lt;int&gt;</th></tr>\n",
       "</thead>\n",
       "<tbody>\n",
       "\t<tr><th scope=row>37597</th><td>2002-12-26</td><td>118</td></tr>\n",
       "\t<tr><th scope=row>37598</th><td>2002-12-27</td><td>138</td></tr>\n",
       "\t<tr><th scope=row>37599</th><td>2002-12-28</td><td>128</td></tr>\n",
       "\t<tr><th scope=row>37600</th><td>2002-12-29</td><td>115</td></tr>\n",
       "\t<tr><th scope=row>37601</th><td>2002-12-30</td><td>115</td></tr>\n",
       "\t<tr><th scope=row>37602</th><td>2002-12-31</td><td>122</td></tr>\n",
       "</tbody>\n",
       "</table>\n"
      ],
      "text/latex": [
       "A data.frame: 6 × 2\n",
       "\\begin{tabular}{r|ll}\n",
       "  & DATE & TG\\\\\n",
       "  & <dttm> & <int>\\\\\n",
       "\\hline\n",
       "\t37597 & 2002-12-26 & 118\\\\\n",
       "\t37598 & 2002-12-27 & 138\\\\\n",
       "\t37599 & 2002-12-28 & 128\\\\\n",
       "\t37600 & 2002-12-29 & 115\\\\\n",
       "\t37601 & 2002-12-30 & 115\\\\\n",
       "\t37602 & 2002-12-31 & 122\\\\\n",
       "\\end{tabular}\n"
      ],
      "text/markdown": [
       "\n",
       "A data.frame: 6 × 2\n",
       "\n",
       "| <!--/--> | DATE &lt;dttm&gt; | TG &lt;int&gt; |\n",
       "|---|---|---|\n",
       "| 37597 | 2002-12-26 | 118 |\n",
       "| 37598 | 2002-12-27 | 138 |\n",
       "| 37599 | 2002-12-28 | 128 |\n",
       "| 37600 | 2002-12-29 | 115 |\n",
       "| 37601 | 2002-12-30 | 115 |\n",
       "| 37602 | 2002-12-31 | 122 |\n",
       "\n"
      ],
      "text/plain": [
       "      DATE       TG \n",
       "37597 2002-12-26 118\n",
       "37598 2002-12-27 138\n",
       "37599 2002-12-28 128\n",
       "37600 2002-12-29 115\n",
       "37601 2002-12-30 115\n",
       "37602 2002-12-31 122"
      ]
     },
     "metadata": {},
     "output_type": "display_data"
    }
   ],
   "source": [
    "Data = read.table(file=\"data/TG_STAID000031.txt\",skip = 20,header=TRUE,sep=',')\n",
    "Data <- filter(Data,Q_TG==0)\n",
    "Data <- Data[,-c(1,2,5)]\n",
    "Data$DATE <- strptime(Data$DATE, format = \"%Y%m%d\")\n",
    "tail(Data)"
   ]
  },
  {
   "cell_type": "code",
   "execution_count": 55,
   "id": "333761f8",
   "metadata": {
    "scrolled": true
   },
   "outputs": [
    {
     "data": {
      "text/html": [
       "230.954838709677"
      ],
      "text/latex": [
       "230.954838709677"
      ],
      "text/markdown": [
       "230.954838709677"
      ],
      "text/plain": [
       "[1] 230.9548"
      ]
     },
     "metadata": {},
     "output_type": "display_data"
    },
    {
     "data": {
      "text/html": [
       "244.148387096774"
      ],
      "text/latex": [
       "244.148387096774"
      ],
      "text/markdown": [
       "244.148387096774"
      ],
      "text/plain": [
       "[1] 244.1484"
      ]
     },
     "metadata": {},
     "output_type": "display_data"
    },
    {
     "data": {
      "text/html": [
       "78.1806451612903"
      ],
      "text/latex": [
       "78.1806451612903"
      ],
      "text/markdown": [
       "78.1806451612903"
      ],
      "text/plain": [
       "[1] 78.18065"
      ]
     },
     "metadata": {},
     "output_type": "display_data"
    },
    {
     "data": {
      "text/html": [
       "93.8709677419355"
      ],
      "text/latex": [
       "93.8709677419355"
      ],
      "text/markdown": [
       "93.8709677419355"
      ],
      "text/plain": [
       "[1] 93.87097"
      ]
     },
     "metadata": {},
     "output_type": "display_data"
    }
   ],
   "source": [
    "data_past<-filter(data_annual_monthly_mean,data_annual_monthly_mean$Group.1==1967 |\n",
    "                 data_annual_monthly_mean$Group.1==1968 |\n",
    "                 data_annual_monthly_mean$Group.1==1969 |\n",
    "                 data_annual_monthly_mean$Group.1==1970 |\n",
    "                 data_annual_monthly_mean$Group.1==1971)\n",
    "data_monthly_mean_past <- aggregate(data_past[,3],list(data_past[,2]),mean)\n",
    "hottest_past = max(data_monthly_mean_past$x)\n",
    "coldest_past = min(data_monthly_mean_past$x)\n",
    "# data_monthly_mean_past\n",
    "# data_monthly_quantils_past<- aggregate(data_past[,3],list(data_past[,2]),quantile,c(0.10,0.90))\n",
    "# # data_monthly_quantils_past\n",
    "\n",
    "data_pre<-filter(data_annual_monthly_mean,data_annual_monthly_mean$Group.1==1998 |\n",
    "                 data_annual_monthly_mean$Group.1==1999 |\n",
    "                 data_annual_monthly_mean$Group.1==2000 |\n",
    "                 data_annual_monthly_mean$Group.1==2001 |\n",
    "                 data_annual_monthly_mean$Group.1==2002)\n",
    "data_monthly_mean_pre <- aggregate(data_pre[,3],list(data_pre[,2]),mean)\n",
    "hottest_pre = max(data_monthly_mean_pre$x)\n",
    "coldest_pre = min(data_monthly_mean_pre$x)\n",
    "# # data_monthly_mean_pre\n",
    "# data_monthly_quantils_pre<- aggregate(data_pre[,3],list(data_pre[,2]),quantile,c(0.10,0.90))\n",
    "# # data_monthly_quantils_pre\n",
    "\n",
    "# plot(data_past$`Group.2`,data_past$x)\n",
    "# lines(data_monthly_mean_past$`Group.1`,data_monthly_mean_past$x,col=\"red\")\n",
    "# lines(data_monthly_quantils_past$`Group.1`,data_monthly_quantils_past$x[,1],col=\"blue\")\n",
    "# lines(data_monthly_quantils_past$`Group.1`,data_monthly_quantils_past$x[,2],col=\"blue\")\n",
    "\n",
    "# plot(data_pre$`Group.2`,data_pre$x)\n",
    "# lines(data_monthly_mean_pre$`Group.1`,data_monthly_mean_pre$x,col=\"red\")\n",
    "# lines(data_monthly_quantils_pre$`Group.1`,data_monthly_quantils_pre$x[,1],col=\"blue\")\n",
    "# lines(data_monthly_quantils_pre$`Group.1`,data_monthly_quantils_pre$x[,2],col=\"blue\")\n",
    "\n",
    "hottest_past\n",
    "hottest_pre\n",
    "coldest_past\n",
    "coldest_pre"
   ]
  },
  {
   "cell_type": "code",
   "execution_count": null,
   "id": "813c735d",
   "metadata": {},
   "outputs": [],
   "source": []
  }
 ],
 "metadata": {
  "kernelspec": {
   "display_name": "R",
   "language": "R",
   "name": "ir"
  },
  "language_info": {
   "codemirror_mode": "r",
   "file_extension": ".r",
   "mimetype": "text/x-r-source",
   "name": "R",
   "pygments_lexer": "r",
   "version": "4.1.1"
  }
 },
 "nbformat": 4,
 "nbformat_minor": 5
}
