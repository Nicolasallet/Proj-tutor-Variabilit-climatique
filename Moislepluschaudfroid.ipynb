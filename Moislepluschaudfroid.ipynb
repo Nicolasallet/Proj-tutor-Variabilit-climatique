{
 "cells": [
  {
   "cell_type": "code",
   "execution_count": 9,
   "id": "833faa17",
   "metadata": {},
   "outputs": [],
   "source": [
    "library('dplyr')\n",
    "library(\"zoo\")\n",
    "directory = '/media/nicolas/Elements/data/'\n",
    "time_past = 1970\n",
    "time_pre = 2010"
   ]
  },
  {
   "cell_type": "code",
   "execution_count": 113,
   "id": "e394f873",
   "metadata": {},
   "outputs": [],
   "source": [
    "moislepluschaudfroid <- function(STAID,time){\n",
    "    \n",
    "    path_to_data <- paste(directory,'TG/TG_STAID',STAID,'.txt',sep='')\n",
    "        \n",
    "    ## Vérification de l'éxistence du fichier    \n",
    "    if (!file.exists(path_to_data)){\n",
    "            stop(\"Invalid ID\")\n",
    "    }\n",
    "    \n",
    "    if (!time == time_pre) {\n",
    "        if(!time == time_past){\n",
    "        stop('Time argument must be time_pre or time_past')\n",
    "    }}\n",
    "    \n",
    "    Data <- read.table(path_to_data,skip = 20,header=TRUE,sep=',')\n",
    "    Data <- filter(Data,Data$Q_TG==0)               \n",
    "    Data <- Data[,-c(1,2,5)]\n",
    "    Data$DATE <- strptime(Data$DATE, format = \"%Y%m%d\")\n",
    "    \n",
    "    Data <- filter ( Data, Data$DATE$year > time - 1905 & Data$DATE$year <= time - 1900)  \n",
    "    \n",
    "    if (!length(Data$DATE$year)==1826){\n",
    "        stop('Unvailable data for this period')\n",
    "    }\n",
    "        \n",
    "    #On extrait de la colonne de date un vecteur ne contenant que les années\n",
    "    vec_year<-as.numeric(format(Data$DATE,\"%Y\"))\n",
    "    #On extrait de la colonne de date un vecteur ne contenant que les mois\n",
    "    vec_month<-as.numeric(format(Data$DATE, \"%m\"))\n",
    "    #Calcule de la température moyenne de tout les mois de toutes les année : \n",
    "    data_annual_monthly_mean<-aggregate(Data$TG,by = list(vec_year,vec_month),mean)\n",
    "    #Moyenne sur les 5 ans <- pas d'effet 'année exeptionnel' \n",
    "    data_monthly_mean <- aggregate(data_annual_monthly_mean$x,data_annual_monthly_mean[2],mean)\n",
    "    hottest = max(data_monthly_mean$x)\n",
    "    coldest = min(data_monthly_mean$x)\n",
    "    \n",
    "    result <- list(hottest,coldest)  \n",
    "}"
   ]
  },
  {
   "cell_type": "code",
   "execution_count": 116,
   "id": "1f62266c-8e1b-4c14-aa7c-a508c83987a6",
   "metadata": {},
   "outputs": [
    {
     "data": {
      "text/html": [
       "<ol>\n",
       "\t<li>201.412903225806</li>\n",
       "\t<li>-8.47096774193548</li>\n",
       "</ol>\n"
      ],
      "text/latex": [
       "\\begin{enumerate}\n",
       "\\item 201.412903225806\n",
       "\\item -8.47096774193548\n",
       "\\end{enumerate}\n"
      ],
      "text/markdown": [
       "1. 201.412903225806\n",
       "2. -8.47096774193548\n",
       "\n",
       "\n"
      ],
      "text/plain": [
       "[[1]]\n",
       "[1] 201.4129\n",
       "\n",
       "[[2]]\n",
       "[1] -8.470968\n"
      ]
     },
     "metadata": {},
     "output_type": "display_data"
    }
   ],
   "source": [
    "k <- moislepluschaudfroid('000031',time_pre)\n",
    "k"
   ]
  },
  {
   "cell_type": "code",
   "execution_count": null,
   "id": "b2b9b0ec-b260-4602-b0b9-f4183d044424",
   "metadata": {},
   "outputs": [],
   "source": []
  }
 ],
 "metadata": {
  "kernelspec": {
   "display_name": "R",
   "language": "R",
   "name": "ir"
  },
  "language_info": {
   "codemirror_mode": "r",
   "file_extension": ".r",
   "mimetype": "text/x-r-source",
   "name": "R",
   "pygments_lexer": "r",
   "version": "4.1.2"
  }
 },
 "nbformat": 4,
 "nbformat_minor": 5
}
