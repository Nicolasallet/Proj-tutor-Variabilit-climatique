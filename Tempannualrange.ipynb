{
 "cells": [
  {
   "cell_type": "code",
   "execution_count": 94,
   "id": "a4bc361f-3d15-499f-ac32-33307d060bc9",
   "metadata": {},
   "outputs": [],
   "source": [
    "library('dplyr')\n",
    "library(\"zoo\")\n",
    "directory = '/media/nicolas/Elements/data/'\n",
    "time_past = 1970\n",
    "time_pre = 2010\n",
    "# STAID='000013'\n",
    "# time = time_pre"
   ]
  },
  {
   "cell_type": "code",
   "execution_count": 95,
   "id": "350c3f95-5e14-4c3d-8064-b66af7846e5f",
   "metadata": {},
   "outputs": [],
   "source": [
    "openfile <- function(path_to_data,time){\n",
    "    \n",
    "        # Vérification de l'éxistence du fichier    \n",
    "    if (!file.exists(path_to_data)){\n",
    "            stop(\"Invalid ID\")\n",
    "    }\n",
    "    \n",
    "    Data <- read.table(path_to_data,skip = 20,header=TRUE,sep=',')\n",
    "    Data <- filter(Data,Data[,5]==0)               \n",
    "    Data <- Data[,-c(1,2,5)]\n",
    "    Data$DATE <- strptime(Data$DATE, format = \"%Y%m%d\")\n",
    " \n",
    "    Data <- filter ( Data, Data$DATE$year > time - 1905 & Data$DATE$year <= time - 1900)\n",
    "    if (!length(Data$DATE$year)==1826){\n",
    "        stop('Unvailable data for this period')\n",
    "    }\n",
    "    return(Data)\n",
    "}"
   ]
  },
  {
   "cell_type": "code",
   "execution_count": 96,
   "id": "29e10786-aff5-4239-9374-5e66acac0728",
   "metadata": {},
   "outputs": [],
   "source": [
    "Tempannualrange <- function(STAID,time){\n",
    "    path_to_data_min <- paste(directory,'TN/TN_STAID',STAID,'.txt',sep='')\n",
    "    path_to_data_max <- paste(directory,'TX/TX_STAID',STAID,'.txt',sep='')\n",
    "    \n",
    "\n",
    "    if (!time == time_pre) {\n",
    "        if(!time == time_past){\n",
    "        stop('Time argument must be time_pre or time_past')\n",
    "    }}\n",
    " \n",
    "    Data_min <- openfile(path_to_data_min,time)\n",
    "    Data_max <- openfile(path_to_data_max,time)\n",
    "    \n",
    "    #On extrait de la colonne de date un vecteur ne contenant que les années\n",
    "    vec_year<-as.numeric(format(Data_max$DATE,\"%Y\"))\n",
    "    #On extrait de la colonne de date un vecteur ne contenant que les mois\n",
    "    vec_month<-as.numeric(format(Data_max$DATE, \"%m\"))\n",
    "\n",
    "    #Calcule de la température min de tout les mois de toutes les année : \n",
    "    data_annual_monthly_min<-aggregate(Data_min$TN,by = list(vec_year,vec_month),min)\n",
    "\n",
    "    #Calcule de la température max de tout les mois de toutes les année : \n",
    "    data_annual_monthly_max<-aggregate(Data_max$TX,by = list(vec_year,vec_month),max)\n",
    "    \n",
    "    data_monthly_min <- aggregate(data_annual_monthly_min$x,data_annual_monthly_min[2],mean)\n",
    "    data_monthly_max <- aggregate(data_annual_monthly_max$x,data_annual_monthly_max[2],mean)\n",
    "    data_monthly_range <- data_monthly_min\n",
    "    data_monthly_range$max <- data_monthly_max$x\n",
    "    data_monthly_range<-mutate(data_monthly_range,range = data_monthly_range$max-data_monthly_range$x)\n",
    "    BIO2 <- mean(data_monthly_range$range)\n",
    "    BIO5 <- max(data_monthly_max$x)\n",
    "    BIO6 <- min(data_monthly_min$x)\n",
    "    BIO7 <- BIO5-BIO6\n",
    "    BIO3 <- (BIO2/BIO7)*100\n",
    "    \n",
    "    return(list(BIO2,BIO3,BIO5,BIO6,BIO7))\n",
    "}"
   ]
  },
  {
   "cell_type": "code",
   "execution_count": 97,
   "id": "c5991ac7-0162-4107-a83f-6817381ecae8",
   "metadata": {},
   "outputs": [
    {
     "data": {
      "text/html": [
       "<ol>\n",
       "\t<li>249.1</li>\n",
       "\t<li>50</li>\n",
       "\t<li>320.2</li>\n",
       "\t<li>-178</li>\n",
       "\t<li>498.2</li>\n",
       "</ol>\n"
      ],
      "text/latex": [
       "\\begin{enumerate}\n",
       "\\item 249.1\n",
       "\\item 50\n",
       "\\item 320.2\n",
       "\\item -178\n",
       "\\item 498.2\n",
       "\\end{enumerate}\n"
      ],
      "text/markdown": [
       "1. 249.1\n",
       "2. 50\n",
       "3. 320.2\n",
       "4. -178\n",
       "5. 498.2\n",
       "\n",
       "\n"
      ],
      "text/plain": [
       "[[1]]\n",
       "[1] 249.1\n",
       "\n",
       "[[2]]\n",
       "[1] 50\n",
       "\n",
       "[[3]]\n",
       "[1] 320.2\n",
       "\n",
       "[[4]]\n",
       "[1] -178\n",
       "\n",
       "[[5]]\n",
       "[1] 498.2\n"
      ]
     },
     "metadata": {},
     "output_type": "display_data"
    },
    {
     "data": {
      "text/html": [
       "<ol>\n",
       "\t<li>248.366666666667</li>\n",
       "\t<li>54.6822251577866</li>\n",
       "\t<li>331.2</li>\n",
       "\t<li>-123</li>\n",
       "\t<li>454.2</li>\n",
       "</ol>\n"
      ],
      "text/latex": [
       "\\begin{enumerate}\n",
       "\\item 248.366666666667\n",
       "\\item 54.6822251577866\n",
       "\\item 331.2\n",
       "\\item -123\n",
       "\\item 454.2\n",
       "\\end{enumerate}\n"
      ],
      "text/markdown": [
       "1. 248.366666666667\n",
       "2. 54.6822251577866\n",
       "3. 331.2\n",
       "4. -123\n",
       "5. 454.2\n",
       "\n",
       "\n"
      ],
      "text/plain": [
       "[[1]]\n",
       "[1] 248.3667\n",
       "\n",
       "[[2]]\n",
       "[1] 54.68223\n",
       "\n",
       "[[3]]\n",
       "[1] 331.2\n",
       "\n",
       "[[4]]\n",
       "[1] -123\n",
       "\n",
       "[[5]]\n",
       "[1] 454.2\n"
      ]
     },
     "metadata": {},
     "output_type": "display_data"
    }
   ],
   "source": [
    "k<-Tempannualrange('000013',time=time_past)\n",
    "k\n",
    "h<-Tempannualrange('000013',time=time_pre)\n",
    "h"
   ]
  },
  {
   "cell_type": "code",
   "execution_count": null,
   "id": "c7659232-5147-4265-b82f-d143a2f2c145",
   "metadata": {},
   "outputs": [],
   "source": []
  }
 ],
 "metadata": {
  "kernelspec": {
   "display_name": "R",
   "language": "R",
   "name": "ir"
  },
  "language_info": {
   "codemirror_mode": "r",
   "file_extension": ".r",
   "mimetype": "text/x-r-source",
   "name": "R",
   "pygments_lexer": "r",
   "version": "4.1.2"
  }
 },
 "nbformat": 4,
 "nbformat_minor": 5
}
