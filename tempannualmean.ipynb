{
 "cells": [
  {
   "cell_type": "code",
   "execution_count": 2,
   "id": "7c371ed2-e1b0-4ad9-ac71-c812b3583c0c",
   "metadata": {},
   "outputs": [],
   "source": [
    "library('dplyr')\n",
    "library(\"zoo\")\n",
    "directory = '/media/nicolas/Elements/data/'\n",
    "time_past = 1970\n",
    "time_pre = 2010\n",
    "# STAID='000013'\n",
    "# time=time_pre"
   ]
  },
  {
   "cell_type": "code",
   "execution_count": 18,
   "id": "742f9e49-33fa-4175-87da-f95a1df59bf5",
   "metadata": {},
   "outputs": [],
   "source": [
    "openfile <- function(path_to_data,time){\n",
    "    Data <- read.table(path_to_data,skip = 20,header=TRUE,sep=',')\n",
    "    Data <- filter(Data,Data[,5]==0)               \n",
    "    Data <- Data[,-c(1,2,5)]\n",
    "    Data$DATE <- strptime(Data$DATE, format = \"%Y%m%d\")\n",
    " \n",
    "    Data <- filter ( Data, Data$DATE$year > time - 1905 & Data$DATE$year <= time - 1900)\n",
    "    if (!length(Data$DATE$year)==1826){\n",
    "        stop('Unvailable data for this period')\n",
    "    }\n",
    "    return(Data)\n",
    "}"
   ]
  },
  {
   "cell_type": "code",
   "execution_count": 19,
   "id": "1ced4971-84ab-4b8e-88fc-f1a92717f993",
   "metadata": {},
   "outputs": [],
   "source": [
    "tempanualmean<-function(STAID,time){\n",
    "    \n",
    "    if (!time == time_pre) {\n",
    "        if(!time == time_past){\n",
    "        stop('Time argument must be time_pre or time_past')\n",
    "    }}\n",
    "    \n",
    "    data<-openfile(paste(directory,'TG/TG_STAID',STAID,'.txt',sep = '' ),time)\n",
    "    vec_year<-as.numeric(format(data$DATE,\"%Y\"))\n",
    "    data_annual_mean<-aggregate(data$TG,by = list(vec_year),mean)\n",
    "    data_annual_sd<-aggregate(data$TG,by = list(vec_year),sd)\n",
    "    BIO1 = mean (data_annual_mean$x)\n",
    "    BIO3 = mean (data_annual_sd$x)\n",
    "    return(list(BIO1,BIO3))\n",
    "}"
   ]
  },
  {
   "cell_type": "code",
   "execution_count": 21,
   "id": "9c081f2d-a4ed-4182-9602-4f30b3c4ef60",
   "metadata": {},
   "outputs": [
    {
     "data": {
      "text/html": [
       "<ol>\n",
       "\t<li>90.5359487985628</li>\n",
       "\t<li>83.2849279274042</li>\n",
       "</ol>\n"
      ],
      "text/latex": [
       "\\begin{enumerate}\n",
       "\\item 90.5359487985628\n",
       "\\item 83.2849279274042\n",
       "\\end{enumerate}\n"
      ],
      "text/markdown": [
       "1. 90.5359487985628\n",
       "2. 83.2849279274042\n",
       "\n",
       "\n"
      ],
      "text/plain": [
       "[[1]]\n",
       "[1] 90.53595\n",
       "\n",
       "[[2]]\n",
       "[1] 83.28493\n"
      ]
     },
     "metadata": {},
     "output_type": "display_data"
    }
   ],
   "source": [
    "tempanualmean('000013',time_past)"
   ]
  },
  {
   "cell_type": "code",
   "execution_count": null,
   "id": "1496d43a-3a1d-4180-8216-d29f8979b9d5",
   "metadata": {},
   "outputs": [],
   "source": []
  }
 ],
 "metadata": {
  "kernelspec": {
   "display_name": "R",
   "language": "R",
   "name": "ir"
  },
  "language_info": {
   "codemirror_mode": "r",
   "file_extension": ".r",
   "mimetype": "text/x-r-source",
   "name": "R",
   "pygments_lexer": "r",
   "version": "4.1.2"
  }
 },
 "nbformat": 4,
 "nbformat_minor": 5
}
